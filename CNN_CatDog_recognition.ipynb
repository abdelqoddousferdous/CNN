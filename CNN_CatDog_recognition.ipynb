{
 "cells": [
  {
   "cell_type": "code",
   "execution_count": 5,
   "id": "2361ec75",
   "metadata": {},
   "outputs": [],
   "source": [
    "import tensorflow as tf\n",
    "from keras.preprocessing.image import ImageDataGenerator"
   ]
  },
  {
   "cell_type": "code",
   "execution_count": 6,
   "id": "5c3816da",
   "metadata": {},
   "outputs": [
    {
     "data": {
      "text/plain": [
       "'2.15.0'"
      ]
     },
     "execution_count": 6,
     "metadata": {},
     "output_type": "execute_result"
    }
   ],
   "source": [
    "tf.__version__"
   ]
  },
  {
   "cell_type": "code",
   "execution_count": 7,
   "id": "13a64d20",
   "metadata": {},
   "outputs": [
    {
     "name": "stdout",
     "output_type": "stream",
     "text": [
      "Found 8000 images belonging to 2 classes.\n"
     ]
    }
   ],
   "source": [
    "#preprocess the Training set \n",
    "train_datagen = ImageDataGenerator(rescale = 1./255,\n",
    "                                   shear_range = 0.2,\n",
    "                                   zoom_range = 0.2,\n",
    "                                   horizontal_flip = True)\n",
    "training_set = train_datagen.flow_from_directory('../CNN_DATASET/Section 40 - Convolutional Neural Networks (CNN)/dataset/training_set',\n",
    "                                                 target_size = (64, 64),\n",
    "                                                 batch_size = 32,\n",
    "                                                 class_mode = 'binary')"
   ]
  },
  {
   "cell_type": "code",
   "execution_count": 8,
   "id": "8e3578ad",
   "metadata": {},
   "outputs": [
    {
     "name": "stdout",
     "output_type": "stream",
     "text": [
      "Found 8000 images belonging to 2 classes.\n"
     ]
    }
   ],
   "source": [
    "test_datagen = ImageDataGenerator(rescale = 1./255)\n",
    "test_set = test_datagen.flow_from_directory('../CNN_DATASET/Section 40 - Convolutional Neural Networks (CNN)/dataset/training_set',\n",
    "                                           target_size = (64, 64),\n",
    "                                           batch_size = 32,\n",
    "                                           class_mode = 'binary')"
   ]
  },
  {
   "cell_type": "code",
   "execution_count": 9,
   "id": "b030cbc8",
   "metadata": {},
   "outputs": [
    {
     "name": "stdout",
     "output_type": "stream",
     "text": [
      "WARNING:tensorflow:From C:\\Users\\abdelFerdous\\miniconda3\\envs\\myenv\\Lib\\site-packages\\keras\\src\\backend.py:873: The name tf.get_default_graph is deprecated. Please use tf.compat.v1.get_default_graph instead.\n",
      "\n"
     ]
    }
   ],
   "source": [
    "cnn = tf.keras.models.Sequential()"
   ]
  },
  {
   "cell_type": "code",
   "execution_count": 10,
   "id": "3dff3fdb",
   "metadata": {},
   "outputs": [],
   "source": [
    "cnn.add(tf.keras.layers.Conv2D(filters = 32 , kernel_size = 3, activation='relu' , input_shape=[64 ,64, 3] ))"
   ]
  },
  {
   "cell_type": "code",
   "execution_count": 11,
   "id": "c7cfea41",
   "metadata": {},
   "outputs": [
    {
     "name": "stdout",
     "output_type": "stream",
     "text": [
      "WARNING:tensorflow:From C:\\Users\\abdelFerdous\\miniconda3\\envs\\myenv\\Lib\\site-packages\\keras\\src\\layers\\pooling\\max_pooling2d.py:161: The name tf.nn.max_pool is deprecated. Please use tf.nn.max_pool2d instead.\n",
      "\n"
     ]
    }
   ],
   "source": [
    "cnn.add(tf.keras.layers.MaxPool2D(pool_size = 2 , strides = 2))"
   ]
  },
  {
   "cell_type": "code",
   "execution_count": 12,
   "id": "e479a781",
   "metadata": {},
   "outputs": [],
   "source": [
    "cnn.add(tf.keras.layers.Conv2D(filters = 32 , kernel_size = 3, activation='relu' ))"
   ]
  },
  {
   "cell_type": "code",
   "execution_count": 13,
   "id": "dc09b0b3",
   "metadata": {},
   "outputs": [],
   "source": [
    "cnn.add(tf.keras.layers.MaxPool2D(pool_size = 2 , strides = 2))"
   ]
  },
  {
   "cell_type": "code",
   "execution_count": 14,
   "id": "42661dbb",
   "metadata": {},
   "outputs": [],
   "source": [
    "cnn.add(tf.keras.layers.Flatten())"
   ]
  },
  {
   "cell_type": "code",
   "execution_count": 15,
   "id": "5ace8fba",
   "metadata": {},
   "outputs": [],
   "source": [
    "cnn.add(tf.keras.layers.Dense(units=128 , activation = 'relu'))"
   ]
  },
  {
   "cell_type": "code",
   "execution_count": 16,
   "id": "c9cf9599",
   "metadata": {},
   "outputs": [],
   "source": [
    "cnn.add(tf.keras.layers.Dense(units=1 , activation = 'sigmoid'))"
   ]
  },
  {
   "cell_type": "code",
   "execution_count": 17,
   "id": "b60f0125",
   "metadata": {},
   "outputs": [
    {
     "name": "stdout",
     "output_type": "stream",
     "text": [
      "WARNING:tensorflow:From C:\\Users\\abdelFerdous\\miniconda3\\envs\\myenv\\Lib\\site-packages\\keras\\src\\optimizers\\__init__.py:309: The name tf.train.Optimizer is deprecated. Please use tf.compat.v1.train.Optimizer instead.\n",
      "\n"
     ]
    }
   ],
   "source": [
    "cnn.compile(optimizer ='adam' , loss = 'binary_crossentropy', metrics=['accuracy'])"
   ]
  },
  {
   "cell_type": "code",
   "execution_count": 18,
   "id": "6be87c23",
   "metadata": {},
   "outputs": [
    {
     "name": "stdout",
     "output_type": "stream",
     "text": [
      "Epoch 1/25\n",
      "WARNING:tensorflow:From C:\\Users\\abdelFerdous\\miniconda3\\envs\\myenv\\Lib\\site-packages\\keras\\src\\utils\\tf_utils.py:492: The name tf.ragged.RaggedTensorValue is deprecated. Please use tf.compat.v1.ragged.RaggedTensorValue instead.\n",
      "\n",
      "WARNING:tensorflow:From C:\\Users\\abdelFerdous\\miniconda3\\envs\\myenv\\Lib\\site-packages\\keras\\src\\engine\\base_layer_utils.py:384: The name tf.executing_eagerly_outside_functions is deprecated. Please use tf.compat.v1.executing_eagerly_outside_functions instead.\n",
      "\n",
      "250/250 [==============================] - 434s 2s/step - loss: 0.6850 - accuracy: 0.5487 - val_loss: 0.6408 - val_accuracy: 0.6505\n",
      "Epoch 2/25\n",
      "250/250 [==============================] - 120s 483ms/step - loss: 0.6257 - accuracy: 0.6500 - val_loss: 0.5549 - val_accuracy: 0.7206\n",
      "Epoch 3/25\n",
      "250/250 [==============================] - 56s 225ms/step - loss: 0.5700 - accuracy: 0.7032 - val_loss: 0.5365 - val_accuracy: 0.7339\n",
      "Epoch 4/25\n",
      "250/250 [==============================] - 58s 234ms/step - loss: 0.5348 - accuracy: 0.7283 - val_loss: 0.4993 - val_accuracy: 0.7560\n",
      "Epoch 5/25\n",
      "250/250 [==============================] - 71s 283ms/step - loss: 0.5050 - accuracy: 0.7508 - val_loss: 0.4676 - val_accuracy: 0.7768\n",
      "Epoch 6/25\n",
      "250/250 [==============================] - 66s 261ms/step - loss: 0.4906 - accuracy: 0.7665 - val_loss: 0.4517 - val_accuracy: 0.7908\n",
      "Epoch 7/25\n",
      "250/250 [==============================] - 60s 239ms/step - loss: 0.4802 - accuracy: 0.7670 - val_loss: 0.4386 - val_accuracy: 0.7985\n",
      "Epoch 8/25\n",
      "250/250 [==============================] - 57s 226ms/step - loss: 0.4686 - accuracy: 0.7760 - val_loss: 0.4123 - val_accuracy: 0.8111\n",
      "Epoch 9/25\n",
      "250/250 [==============================] - 59s 238ms/step - loss: 0.4561 - accuracy: 0.7825 - val_loss: 0.4513 - val_accuracy: 0.7869\n",
      "Epoch 10/25\n",
      "250/250 [==============================] - 56s 224ms/step - loss: 0.4429 - accuracy: 0.7910 - val_loss: 0.4226 - val_accuracy: 0.8059\n",
      "Epoch 11/25\n",
      "250/250 [==============================] - 58s 233ms/step - loss: 0.4382 - accuracy: 0.7970 - val_loss: 0.3919 - val_accuracy: 0.8242\n",
      "Epoch 12/25\n",
      "250/250 [==============================] - 57s 227ms/step - loss: 0.4251 - accuracy: 0.7994 - val_loss: 0.3836 - val_accuracy: 0.8189\n",
      "Epoch 13/25\n",
      "250/250 [==============================] - 56s 223ms/step - loss: 0.4189 - accuracy: 0.8060 - val_loss: 0.3835 - val_accuracy: 0.8279\n",
      "Epoch 14/25\n",
      "250/250 [==============================] - 58s 233ms/step - loss: 0.4101 - accuracy: 0.8087 - val_loss: 0.4008 - val_accuracy: 0.8219\n",
      "Epoch 15/25\n",
      "250/250 [==============================] - 60s 241ms/step - loss: 0.4063 - accuracy: 0.8086 - val_loss: 0.3574 - val_accuracy: 0.8413\n",
      "Epoch 16/25\n",
      "250/250 [==============================] - 71s 285ms/step - loss: 0.4003 - accuracy: 0.8140 - val_loss: 0.3644 - val_accuracy: 0.8409\n",
      "Epoch 17/25\n",
      "250/250 [==============================] - 79s 315ms/step - loss: 0.3941 - accuracy: 0.8234 - val_loss: 0.3647 - val_accuracy: 0.8397\n",
      "Epoch 18/25\n",
      "250/250 [==============================] - 81s 326ms/step - loss: 0.3852 - accuracy: 0.8231 - val_loss: 0.3645 - val_accuracy: 0.8376\n",
      "Epoch 19/25\n",
      "250/250 [==============================] - 87s 347ms/step - loss: 0.3838 - accuracy: 0.8224 - val_loss: 0.4395 - val_accuracy: 0.7881\n",
      "Epoch 20/25\n",
      "250/250 [==============================] - 123s 492ms/step - loss: 0.3748 - accuracy: 0.8294 - val_loss: 0.3369 - val_accuracy: 0.8547\n",
      "Epoch 21/25\n",
      "250/250 [==============================] - 81s 326ms/step - loss: 0.3702 - accuracy: 0.8374 - val_loss: 0.3248 - val_accuracy: 0.8566\n",
      "Epoch 22/25\n",
      "250/250 [==============================] - 82s 329ms/step - loss: 0.3602 - accuracy: 0.8355 - val_loss: 0.4774 - val_accuracy: 0.7699\n",
      "Epoch 23/25\n",
      "250/250 [==============================] - 77s 306ms/step - loss: 0.3637 - accuracy: 0.8372 - val_loss: 0.3320 - val_accuracy: 0.8495\n",
      "Epoch 24/25\n",
      "250/250 [==============================] - 77s 307ms/step - loss: 0.3562 - accuracy: 0.8393 - val_loss: 0.3553 - val_accuracy: 0.8419\n",
      "Epoch 25/25\n",
      "250/250 [==============================] - 80s 320ms/step - loss: 0.3415 - accuracy: 0.8469 - val_loss: 0.3290 - val_accuracy: 0.8511\n"
     ]
    },
    {
     "data": {
      "text/plain": [
       "<keras.src.callbacks.History at 0x2890198cb10>"
      ]
     },
     "execution_count": 18,
     "metadata": {},
     "output_type": "execute_result"
    }
   ],
   "source": [
    "cnn.fit(x = training_set, validation_data = test_set, epochs = 25)"
   ]
  },
  {
   "cell_type": "code",
   "execution_count": 19,
   "id": "8ffdf708",
   "metadata": {},
   "outputs": [],
   "source": [
    "import numpy as np\n",
    "from keras.preprocessing import image"
   ]
  },
  {
   "cell_type": "code",
   "execution_count": 20,
   "id": "43114b53",
   "metadata": {},
   "outputs": [],
   "source": [
    "test_img = image.load_img('../CNN_DATASET/Section 40 - Convolutional Neural Networks (CNN)/dataset/single_prediction/cat_or_dog_2.jpg' , target_size = (64 ,64))"
   ]
  },
  {
   "cell_type": "code",
   "execution_count": 21,
   "id": "437d40b0",
   "metadata": {},
   "outputs": [
    {
     "name": "stdout",
     "output_type": "stream",
     "text": [
      "1/1 [==============================] - 1s 747ms/step\n"
     ]
    }
   ],
   "source": [
    "img = image.img_to_array(test_img)\n",
    "img = np.expand_dims(img , axis = 0)\n",
    "result = cnn.predict(img/255.0)"
   ]
  },
  {
   "cell_type": "code",
   "execution_count": 22,
   "id": "69f18410",
   "metadata": {},
   "outputs": [
    {
     "data": {
      "text/plain": [
       "{'cats': 0, 'dogs': 1}"
      ]
     },
     "execution_count": 22,
     "metadata": {},
     "output_type": "execute_result"
    }
   ],
   "source": [
    "training_set.class_indices"
   ]
  },
  {
   "cell_type": "code",
   "execution_count": 25,
   "id": "622ef862",
   "metadata": {},
   "outputs": [
    {
     "data": {
      "text/plain": [
       "array([[0.49174628]], dtype=float32)"
      ]
     },
     "execution_count": 25,
     "metadata": {},
     "output_type": "execute_result"
    }
   ],
   "source": [
    "result"
   ]
  },
  {
   "cell_type": "code",
   "execution_count": 23,
   "id": "6c1be04d",
   "metadata": {},
   "outputs": [],
   "source": [
    "if result[0][0] > 0.5:\n",
    "    pred = 'dog'\n",
    "else:\n",
    "    pred = 'cat'"
   ]
  },
  {
   "cell_type": "code",
   "execution_count": 24,
   "id": "5767f030",
   "metadata": {},
   "outputs": [
    {
     "data": {
      "text/plain": [
       "'cat'"
      ]
     },
     "execution_count": 24,
     "metadata": {},
     "output_type": "execute_result"
    }
   ],
   "source": [
    "pred"
   ]
  },
  {
   "cell_type": "code",
   "execution_count": null,
   "id": "ea311d1e",
   "metadata": {},
   "outputs": [],
   "source": []
  }
 ],
 "metadata": {
  "kernelspec": {
   "display_name": "Python 3 (ipykernel)",
   "language": "python",
   "name": "python3"
  },
  "language_info": {
   "codemirror_mode": {
    "name": "ipython",
    "version": 3
   },
   "file_extension": ".py",
   "mimetype": "text/x-python",
   "name": "python",
   "nbconvert_exporter": "python",
   "pygments_lexer": "ipython3",
   "version": "3.11.4"
  }
 },
 "nbformat": 4,
 "nbformat_minor": 5
}
